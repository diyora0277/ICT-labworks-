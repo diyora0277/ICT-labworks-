{
 "cells": [
  {
   "cell_type": "markdown",
   "metadata": {},
   "source": [
    "11"
   ]
  },
  {
   "cell_type": "code",
   "execution_count": null,
   "metadata": {},
   "outputs": [],
   "source": [
    "n = int(input())\n",
    "k = 2\n",
    "while(n % k != 0):\n",
    "    k += 1\n",
    "print(k)"
   ]
  },
  {
   "cell_type": "markdown",
   "metadata": {},
   "source": [
    "# 10"
   ]
  },
  {
   "cell_type": "code",
   "execution_count": 1,
   "metadata": {},
   "outputs": [
    {
     "name": "stdout",
     "output_type": "stream",
     "text": [
      "50\n",
      "1 4 9 16 25 36 49 "
     ]
    }
   ],
   "source": [
    "import math\n",
    "n = int(input())\n",
    "\n",
    "for x in range(1, n): \n",
    "\n",
    "    square = (x ** 2)\n",
    "    if square <= n:\n",
    "        print(square, end = \" \") \n",
    "        "
   ]
  },
  {
   "cell_type": "code",
   "execution_count": 4,
   "metadata": {},
   "outputs": [],
   "source": [
    "#13"
   ]
  },
  {
   "cell_type": "code",
   "execution_count": 5,
   "metadata": {},
   "outputs": [
    {
     "name": "stdout",
     "output_type": "stream",
     "text": [
      "3\n",
      "6\n",
      "8\n",
      "0\n",
      "17\n"
     ]
    }
   ],
   "source": [
    "arr = []\n",
    "sum = 0\n",
    "while True:\n",
    "    k = int(input())\n",
    "    if k == 0:\n",
    "        break\n",
    "    arr.append(k)\n",
    "for z in arr:\n",
    "    sum += z\n",
    "print(sum)"
   ]
  },
  {
   "cell_type": "code",
   "execution_count": 6,
   "metadata": {},
   "outputs": [],
   "source": [
    "#14"
   ]
  },
  {
   "cell_type": "code",
   "execution_count": 7,
   "metadata": {},
   "outputs": [
    {
     "name": "stdout",
     "output_type": "stream",
     "text": [
      "1\n",
      "7\n",
      "9\n",
      "0\n",
      "1\n"
     ]
    }
   ],
   "source": [
    "arr = []\n",
    "sum = 0\n",
    "while True:\n",
    "    k = int(input())\n",
    "    if k == 0:\n",
    "        break\n",
    "    arr.append(k)\n",
    "max = 0\n",
    "cnt = 0\n",
    "for i in range(0, len(arr)):\n",
    "    if(arr[i] > max):\n",
    "        max = arr[i]\n",
    "        \n",
    "for i in range(0,len(arr)):\n",
    "    if(arr[i]==max):\n",
    "        cnt += 1\n",
    "        \n",
    "print(cnt)"
   ]
  },
  {
   "cell_type": "code",
   "execution_count": 8,
   "metadata": {},
   "outputs": [],
   "source": [
    "#16"
   ]
  },
  {
   "cell_type": "code",
   "execution_count": 9,
   "metadata": {},
   "outputs": [
    {
     "name": "stdout",
     "output_type": "stream",
     "text": [
      "1\n",
      "2\n",
      "1\n",
      "2\n",
      "1\n",
      "0\n",
      "2\n"
     ]
    }
   ],
   "source": [
    "arr = []\n",
    "\n",
    "cnt = 0\n",
    "while True:\n",
    "    k = int(input())\n",
    "    if k == 0:\n",
    "        break\n",
    "    arr.append(k)\n",
    "    \n",
    "i = 1\n",
    "while i < len(arr) - 1:\n",
    "    if arr[i] > arr[i-1] and arr[i] > arr[i+1]:\n",
    "        cnt+=1\n",
    "    i += 1\n",
    "    \n",
    "print(cnt)\n"
   ]
  },
  {
   "cell_type": "code",
   "execution_count": 10,
   "metadata": {},
   "outputs": [],
   "source": [
    "#17"
   ]
  },
  {
   "cell_type": "code",
   "execution_count": 20,
   "metadata": {},
   "outputs": [
    {
     "name": "stdout",
     "output_type": "stream",
     "text": [
      "4\n",
      "1 3 3 3\n",
      "1\n"
     ]
    }
   ],
   "source": [
    "n  = input().split()\n",
    "cnt = 1\n",
    "for i in range(0,len(n)-1):\n",
    "    if(n[i]!=n[i+1]):\n",
    "        cnt+=1\n",
    "print(cnt)"
   ]
  },
  {
   "cell_type": "code",
   "execution_count": 21,
   "metadata": {},
   "outputs": [],
   "source": [
    "#18"
   ]
  },
  {
   "cell_type": "code",
   "execution_count": 23,
   "metadata": {},
   "outputs": [
    {
     "name": "stdout",
     "output_type": "stream",
     "text": [
      "5 1 2 3 4 5\n",
      "5\n",
      "5\n",
      "1\n",
      "2\n",
      "3\n",
      "4\n"
     ]
    }
   ],
   "source": [
    "a = input().split()\n",
    "\n",
    "print(a[len(a)-1])\n",
    "\n",
    "for i in range(0,len(a)-1):\n",
    "    print(a[i])"
   ]
  },
  {
   "cell_type": "code",
   "execution_count": 24,
   "metadata": {},
   "outputs": [],
   "source": [
    "#19"
   ]
  },
  {
   "cell_type": "code",
   "execution_count": 26,
   "metadata": {},
   "outputs": [
    {
     "name": "stdout",
     "output_type": "stream",
     "text": [
      "5 1 2 3 1 2\n",
      "2\n"
     ]
    }
   ],
   "source": [
    "arr = input().split()\n",
    "cnt = 0\n",
    "for i in range(0,len(arr)):\n",
    "    for j in range(0,i):\n",
    "        if(arr[j]==arr[i]):\n",
    "            cnt += 1\n",
    "print(cnt)"
   ]
  },
  {
   "cell_type": "code",
   "execution_count": 27,
   "metadata": {},
   "outputs": [],
   "source": [
    "#20"
   ]
  },
  {
   "cell_type": "code",
   "execution_count": null,
   "metadata": {},
   "outputs": [],
   "source": []
  }
 ],
 "metadata": {
  "kernelspec": {
   "display_name": "Python 3",
   "language": "python",
   "name": "python3"
  },
  "language_info": {
   "codemirror_mode": {
    "name": "ipython",
    "version": 3
   },
   "file_extension": ".py",
   "mimetype": "text/x-python",
   "name": "python",
   "nbconvert_exporter": "python",
   "pygments_lexer": "ipython3",
   "version": "3.7.6"
  }
 },
 "nbformat": 4,
 "nbformat_minor": 4
}
