{
 "cells": [
  {
   "cell_type": "code",
   "execution_count": 3,
   "metadata": {},
   "outputs": [
    {
     "name": "stdout",
     "output_type": "stream",
     "text": [
      "Name: Diyora\n",
      "Age: 18\n",
      "Address: Karabulak, Turkestan region, Kazakhstan\n"
     ]
    }
   ],
   "source": [
    "def self_details():\n",
    "    name = \"Diyora\"\n",
    "    age = 18\n",
    "    address = \"Karabulak, Turkestan region, Kazakhstan\"\n",
    "    print(\"Name: {}\\nAge: {}\\nAddress: {}\".format(name, age, address))\n",
    "    \n",
    "self_details()"
   ]
  },
  {
   "cell_type": "markdown",
   "metadata": {},
   "source": [
    "#2\n"
   ]
  },
  {
   "cell_type": "code",
   "execution_count": 4,
   "metadata": {},
   "outputs": [
    {
     "name": "stdout",
     "output_type": "stream",
     "text": [
      "What is your name?\n",
      "Diyora\n",
      "HELLO! Diyora\n"
     ]
    }
   ],
   "source": [
    "from datetime import datetime;\n",
    "name = input(\"What is your name?\\n\")\n",
    "print(\"HELLO!\", name)"
   ]
  },
  {
   "cell_type": "markdown",
   "metadata": {},
   "source": [
    "#3"
   ]
  },
  {
   "cell_type": "code",
   "execution_count": 8,
   "metadata": {},
   "outputs": [
    {
     "name": "stdout",
     "output_type": "stream",
     "text": [
      "Enter the WIDTH\n",
      "24\n",
      "24.0 meters\n",
      "Enter the HEIGHT\n",
      "43\n",
      "43.0 meters\n",
      "The area of the room is:  1032.0\n"
     ]
    }
   ],
   "source": [
    "from datetime import datetime;\n",
    "width = float(input(\"Enter the WIDTH\\n\"))\n",
    "print(width, \"meters\")\n",
    "height = float(input(\"Enter the HEIGHT\\n\"))\n",
    "print(height, \"meters\")\n",
    "area = width*height\n",
    "print(\"The area of the room is: \", area)"
   ]
  },
  {
   "cell_type": "markdown",
   "metadata": {},
   "source": [
    "#4"
   ]
  },
  {
   "cell_type": "code",
   "execution_count": 9,
   "metadata": {},
   "outputs": [
    {
     "name": "stdout",
     "output_type": "stream",
     "text": [
      "Enter the width in feet\n",
      "34\n",
      "34.0 feet\n",
      "Enter the height in feet\n",
      "43\n",
      "43.0 feet\n",
      "The area of the field is:  63684.72\n"
     ]
    }
   ],
   "source": [
    "from datetime import datetime;\n",
    "width = float(input(\"Enter the width in feet\\n\"))\n",
    "print(width, \"feet\")\n",
    "height = float(input(\"Enter the height in feet\\n\"))\n",
    "print(height, \"feet\")\n",
    "area = width*height\n",
    "print(\"The area of the field is: \", area * 43.560)"
   ]
  },
  {
   "cell_type": "markdown",
   "metadata": {},
   "source": [
    "#5"
   ]
  },
  {
   "cell_type": "code",
   "execution_count": 18,
   "metadata": {},
   "outputs": [
    {
     "name": "stdout",
     "output_type": "stream",
     "text": [
      "1.24\n",
      "1.3639999999999999\n"
     ]
    }
   ],
   "source": [
    "from datetime import datetime;\n",
    "a = float(input())\n",
    "if (a>=1):\n",
    "    print(a + (a*0.10))\n",
    "else:\n",
    "    print(a + (a*0.25))"
   ]
  },
  {
   "cell_type": "markdown",
   "metadata": {},
   "source": [
    "# 6"
   ]
  },
  {
   "cell_type": "code",
   "execution_count": 4,
   "metadata": {},
   "outputs": [
    {
     "name": "stdout",
     "output_type": "stream",
     "text": [
      "140\n",
      "Output is:  193.2\n"
     ]
    }
   ],
   "source": [
    "from datetime import datetime;\n",
    "import math;\n",
    "n = float(input())\n",
    "tip = n * 0.18\n",
    "tax = n * 0.2\n",
    "print(\"Output is: \", n + tip + tax)"
   ]
  },
  {
   "cell_type": "markdown",
   "metadata": {},
   "source": [
    "#7"
   ]
  },
  {
   "cell_type": "code",
   "execution_count": 20,
   "metadata": {},
   "outputs": [
    {
     "name": "stdout",
     "output_type": "stream",
     "text": [
      "5\n",
      "15.0\n"
     ]
    }
   ],
   "source": [
    "from datetime import datetime;\n",
    "import math;\n",
    "n = int(input())\n",
    "sum = n * (n+1) / 2\n",
    "print(sum)"
   ]
  },
  {
   "cell_type": "markdown",
   "metadata": {},
   "source": [
    "#8"
   ]
  },
  {
   "cell_type": "code",
   "execution_count": 21,
   "metadata": {},
   "outputs": [
    {
     "name": "stdout",
     "output_type": "stream",
     "text": [
      "Number of widgets: 4\n",
      "The total weight of the widgets:  300\n",
      "Number of gizmos: 5\n",
      "The total weight of the gizmos:  560\n",
      "The total weight of the order:  860\n"
     ]
    }
   ],
   "source": [
    "from datetime import datetime;\n",
    "import math;\n",
    "a = int(input(\"Number of widgets: \"))\n",
    "print(\"The total weight of the widgets: \", a*75)\n",
    "\n",
    "b = int(input(\"Number of gizmos: \"))\n",
    "print(\"The total weight of the gizmos: \", b*112)\n",
    "\n",
    "print(\"The total weight of the order: \", (a*75)+(b*112))"
   ]
  },
  {
   "cell_type": "markdown",
   "metadata": {},
   "source": [
    "#9"
   ]
  },
  {
   "cell_type": "code",
   "execution_count": 22,
   "metadata": {},
   "outputs": [
    {
     "name": "stdout",
     "output_type": "stream",
     "text": [
      "amount of money: 150\n",
      "first year:  156.0\n",
      "second year:  162.24\n",
      "third year:  168.7296\n"
     ]
    }
   ],
   "source": [
    "from datetime import datetime;\n",
    "import math;\n",
    "n = float(input(\"amount of money: \"))\n",
    "account = n + (n * 0.04)\n",
    "account_2 = account + (account * 0.04)\n",
    "account_3 = account_2 + (account_2 * 0.04)\n",
    "\n",
    "print(\"first year: \", account)\n",
    "print(\"second year: \", account_2)\n",
    "print(\"third year: \", account_3)"
   ]
  },
  {
   "cell_type": "markdown",
   "metadata": {},
   "source": [
    "#10"
   ]
  },
  {
   "cell_type": "code",
   "execution_count": 24,
   "metadata": {},
   "outputs": [
    {
     "name": "stdout",
     "output_type": "stream",
     "text": [
      "5\n",
      "8\n",
      "13\n",
      "3\n",
      "40\n",
      "0\n",
      "5\n",
      "0.6989700043360189\n",
      "0.9030899869919435\n"
     ]
    }
   ],
   "source": [
    "from datetime import datetime;\n",
    "import math;\n",
    "a = int(input())\n",
    "b = int(input())\n",
    "\n",
    "sum = a + b\n",
    "print(sum)\n",
    "\n",
    "reduction = abs(a-b)\n",
    "print(reduction)\n",
    "\n",
    "product = a*b\n",
    "print(product)\n",
    "\n",
    "quotient = int(a/b)\n",
    "print(quotient)\n",
    "\n",
    "remainder = a%b\n",
    "print(remainder)\n",
    "\n",
    "print(math.log10( a ))\n",
    "print(math.log10( b ))"
   ]
  },
  {
   "cell_type": "markdown",
   "metadata": {},
   "source": [
    "#12"
   ]
  },
  {
   "cell_type": "code",
   "execution_count": 22,
   "metadata": {},
   "outputs": [
    {
     "name": "stdout",
     "output_type": "stream",
     "text": [
      "52.2296756\n",
      "21.0122287\n",
      "52.406374\n",
      "16.9251681\n",
      "278.4387262991857\n"
     ]
    }
   ],
   "source": [
    "from datetime import datetime\n",
    "import math\n",
    "from math import sin\n",
    "from math import cos\n",
    "from math import acos\n",
    "from math import asin\n",
    "t1 = float(input())\n",
    "g1 = float(input())\n",
    "t2 = float(input())\n",
    "g2 = float(input())\n",
    "\n",
    "pi=22/7\n",
    "\n",
    "radian_1 = (t1 * (pi/180))\n",
    "radian_2 = (g1 * (pi/180))\n",
    "radian_3 = (t2 * (pi/180))\n",
    "radian_4 = (g2 * (pi/180))\n",
    "\n",
    "distance = 6371.01 * math.acos((math.sin(radian_1) * math.sin(radian_3) + math.cos(radian_1) * math.cos(radian_3) * math.cos(radian_2 - radian_4)))                         \n",
    "print(distance)"
   ]
  },
  {
   "cell_type": "code",
   "execution_count": null,
   "metadata": {},
   "outputs": [],
   "source": []
  }
 ],
 "metadata": {
  "kernelspec": {
   "display_name": "Python 3",
   "language": "python",
   "name": "python3"
  },
  "language_info": {
   "codemirror_mode": {
    "name": "ipython",
    "version": 3
   },
   "file_extension": ".py",
   "mimetype": "text/x-python",
   "name": "python",
   "nbconvert_exporter": "python",
   "pygments_lexer": "ipython3",
   "version": "3.7.6"
  }
 },
 "nbformat": 4,
 "nbformat_minor": 4
}
