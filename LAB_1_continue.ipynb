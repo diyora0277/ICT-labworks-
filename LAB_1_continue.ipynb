{
 "cells": [
  {
   "cell_type": "markdown",
   "metadata": {},
   "source": [
    "#11"
   ]
  },
  {
   "cell_type": "code",
   "execution_count": 20,
   "metadata": {},
   "outputs": [
    {
     "name": "stdout",
     "output_type": "stream",
     "text": [
      "40\n",
      "  8 Nickel\n",
      "  0 Toonies\n",
      "  0 Quarter\n",
      "  0 Dime\n",
      "  0 Loonie\n",
      "  0 PENNIES\n"
     ]
    }
   ],
   "source": [
    "nickel = 5\n",
    "toonie = 200\n",
    "quarter = 25\n",
    "dime = 10\n",
    "loonie = 100\n",
    "cents = int(input())\n",
    "\n",
    "print(\" \", cents // nickel, \"Nickel\")\n",
    "cents = cents % nickel\n",
    "\n",
    "print(\" \", cents // toonie, \"Toonies\")\n",
    "cents = cents % toonie\n",
    "\n",
    "print(\" \", cents // quarter, \"Quarter\")\n",
    "cents = cents % quarter\n",
    "\n",
    "print(\" \", cents // dime, \"Dime\")\n",
    "cents = cents % dime\n",
    "\n",
    "print(\" \", cents // loonie, \"Loonie\")\n",
    "cents = cents % loonie\n",
    "\n",
    "print(\" \", cents, \"PENNIES\")"
   ]
  },
  {
   "cell_type": "markdown",
   "metadata": {},
   "source": [
    "#13"
   ]
  },
  {
   "cell_type": "code",
   "execution_count": 2,
   "metadata": {},
   "outputs": [
    {
     "name": "stdout",
     "output_type": "stream",
     "text": [
      "Enter the American units\n",
      "123\n",
      "In Canadian units it will be:  28931.445 liters-per-hundred kilometers.\n"
     ]
    }
   ],
   "source": [
    "from datetime import datetime;\n",
    "import math;\n",
    "\n",
    "print(\"Enter the American units\")\n",
    "\n",
    "n = float(input())\n",
    "\n",
    "print(\"In Canadian units it will be: \", n * 235.215, \"liters-per-hundred kilometers.\")"
   ]
  },
  {
   "cell_type": "markdown",
   "metadata": {},
   "source": [
    "#14"
   ]
  },
  {
   "cell_type": "code",
   "execution_count": 1,
   "metadata": {},
   "outputs": [
    {
     "name": "stdout",
     "output_type": "stream",
     "text": [
      "Input your height: \n",
      "Feet: 5\n",
      "Inches: 3\n",
      "Your height is : 160 cm.\n"
     ]
    }
   ],
   "source": [
    "from datetime import datetime\n",
    "import math\n",
    "\n",
    "print(\"Input your height: \")\n",
    "\n",
    "h_ft = int(input(\"Feet: \"))\n",
    "\n",
    "h_inch = int(input(\"Inches: \"))\n",
    "\n",
    "h_inch += h_ft * 12\n",
    "h_cm = round(h_inch * 2.54, 1)\n",
    "\n",
    "print(\"Your height is : %d cm.\" % h_cm)"
   ]
  },
  {
   "cell_type": "markdown",
   "metadata": {},
   "source": [
    "#15"
   ]
  },
  {
   "cell_type": "code",
   "execution_count": 5,
   "metadata": {},
   "outputs": [
    {
     "name": "stdout",
     "output_type": "stream",
     "text": [
      "Enter the number in feet\n",
      "5.280\n",
      "0.44\n",
      "1.76\n",
      "1.0\n"
     ]
    }
   ],
   "source": [
    "from datetime import datetime;\n",
    "import math;\n",
    "print(\"Enter the number in feet\")\n",
    "feet = float(input())\n",
    "inches = feet/12\n",
    "yards = feet/3\n",
    "miles = feet/5.280\n",
    "print(inches)\n",
    "print(yards)\n",
    "print(miles)"
   ]
  },
  {
   "cell_type": "markdown",
   "metadata": {},
   "source": [
    "#16"
   ]
  },
  {
   "cell_type": "code",
   "execution_count": 9,
   "metadata": {},
   "outputs": [
    {
     "name": "stdout",
     "output_type": "stream",
     "text": [
      "Enter the radius\n",
      "4\n",
      "50.26548245743669\n",
      "268.082573106329\n"
     ]
    }
   ],
   "source": [
    "from datetime import datetime;\n",
    "import math;\n",
    "print(\"Enter the radius\")\n",
    "r = int(input())\n",
    "area = math.pi * r**2\n",
    "volume = 4/3 * math.pi * r**3\n",
    "print(area)\n",
    "print(volume)"
   ]
  },
  {
   "cell_type": "markdown",
   "metadata": {},
   "source": [
    "#17"
   ]
  },
  {
   "cell_type": "code",
   "execution_count": 28,
   "metadata": {},
   "outputs": [
    {
     "name": "stdout",
     "output_type": "stream",
     "text": [
      "Enter the mass of the water in milligrams: 60\n",
      "Enter the change of the Temperature: 22\n",
      "Total amount of energy:  5525.5199999999995  Joules\n",
      "Electricity costs: 0.01\n"
     ]
    }
   ],
   "source": [
    "mass = float(input(\"Enter the mass of the water in milligrams: \"))\n",
    "\n",
    "#m=pv then v = m especially for water\n",
    "\n",
    "t = float(input(\"Enter the change of the Temperature: \"))\n",
    "specific_heat = 4.186\n",
    "density = 1\n",
    "el_kwh = 8.9\n",
    "q = specific_heat * mass * t\n",
    "print(\"Total amount of energy: \", q, \" Joules\")\n",
    "kwh = el_kwh * (q / (3.6 * 1000000))\n",
    "print(\"Electricity costs: %.2f\" % kwh)"
   ]
  },
  {
   "cell_type": "markdown",
   "metadata": {},
   "source": [
    "# 18"
   ]
  },
  {
   "cell_type": "code",
   "execution_count": 10,
   "metadata": {},
   "outputs": [
    {
     "name": "stdout",
     "output_type": "stream",
     "text": [
      "enter the radius\n",
      "2\n",
      "enter the height\n",
      "3\n",
      "The VOLUME is:  37.69911184307752\n"
     ]
    }
   ],
   "source": [
    "import math\n",
    "print(\"enter the radius\")\n",
    "r = float(input())\n",
    "print(\"enter the height\")\n",
    "h = float(input())\n",
    "volume = math.pi * r**2 * h\n",
    "print(\"The VOLUME is: \", volume)"
   ]
  },
  {
   "cell_type": "markdown",
   "metadata": {},
   "source": [
    "#19"
   ]
  },
  {
   "cell_type": "code",
   "execution_count": 11,
   "metadata": {},
   "outputs": [
    {
     "name": "stdout",
     "output_type": "stream",
     "text": [
      "Input the height\n",
      "4\n",
      "The final speed is:  78.4\n"
     ]
    }
   ],
   "source": [
    "import math\n",
    "print(\"Input the height\")\n",
    "h = float(input())\n",
    "a = 9.8\n",
    "v = 2*a*h\n",
    "print(\"The final speed is: \", v)"
   ]
  },
  {
   "cell_type": "markdown",
   "metadata": {},
   "source": [
    "#20"
   ]
  },
  {
   "cell_type": "code",
   "execution_count": 1,
   "metadata": {},
   "outputs": [
    {
     "name": "stdout",
     "output_type": "stream",
     "text": [
      "pressure: 12\n",
      "volume: 2000000\n",
      "Temperature: 293.15\n",
      "moles n =  9847.167447923151\n"
     ]
    }
   ],
   "source": [
    "P = int(input(\"pressure: \"))\n",
    "V = int(input(\"volume: \"))\n",
    "T = float(input(\"Temperature: \"))\n",
    "R = 8.314\n",
    "n = (P * V)/(R * T)\n",
    "print(\"moles n = \", n)"
   ]
  },
  {
   "cell_type": "markdown",
   "metadata": {},
   "source": [
    "#21"
   ]
  },
  {
   "cell_type": "code",
   "execution_count": 13,
   "metadata": {},
   "outputs": [
    {
     "name": "stdout",
     "output_type": "stream",
     "text": [
      "3\n",
      "6\n",
      "9.0\n"
     ]
    }
   ],
   "source": [
    "import math\n",
    "b = int(input())\n",
    "h = int(input())\n",
    "area_triangle = 1/2*b*h\n",
    "print(area_triangle)"
   ]
  },
  {
   "cell_type": "code",
   "execution_count": 14,
   "metadata": {},
   "outputs": [],
   "source": [
    "#22"
   ]
  },
  {
   "cell_type": "code",
   "execution_count": 15,
   "metadata": {},
   "outputs": [
    {
     "name": "stdout",
     "output_type": "stream",
     "text": [
      "Enter the 3 sides of a triangle\n",
      "2\n",
      "3\n",
      "4\n",
      "The area of the triangle is:  2.9047375096555625\n"
     ]
    }
   ],
   "source": [
    "import math\n",
    "print(\"Enter the 3 sides of a triangle\")\n",
    "s1 = int(input())\n",
    "s2 = int(input())\n",
    "s3 = int(input())\n",
    "s = (s1 + s2 + s3)/ 2\n",
    "area = math.sqrt(s * (s - s1) * (s - s2) * (s - s3))\n",
    "print(\"The area of the triangle is: \", area)"
   ]
  },
  {
   "cell_type": "markdown",
   "metadata": {},
   "source": [
    "#23"
   ]
  },
  {
   "cell_type": "code",
   "execution_count": 16,
   "metadata": {},
   "outputs": [
    {
     "name": "stdout",
     "output_type": "stream",
     "text": [
      "7\n",
      "3\n",
      "area of the polygon is:  32.705211996014306\n"
     ]
    }
   ],
   "source": [
    "import math\n",
    "n = int(input())\n",
    "s = float(input())\n",
    "area = (n * s**2)/(4 * math.tan(math.pi/n))\n",
    "print(\"area of the polygon is: \", area)"
   ]
  },
  {
   "cell_type": "markdown",
   "metadata": {},
   "source": [
    "#24"
   ]
  },
  {
   "cell_type": "code",
   "execution_count": 17,
   "metadata": {},
   "outputs": [
    {
     "name": "stdout",
     "output_type": "stream",
     "text": [
      "3\n",
      "87\n",
      "1\n",
      "20\n",
      "572460\n"
     ]
    }
   ],
   "source": [
    "import math\n",
    "days = int(input())\n",
    "hours = int(input())\n",
    "minutes = int(input())\n",
    "seconds = int(input())\n",
    "sec_minutes = minutes * 60\n",
    "sec_hours = hours * 3600\n",
    "sec_days = days * 86400\n",
    "total_seconds = sec_minutes + sec_hours + sec_days\n",
    "print(total_seconds)"
   ]
  },
  {
   "cell_type": "markdown",
   "metadata": {},
   "source": [
    "#25"
   ]
  },
  {
   "cell_type": "code",
   "execution_count": 6,
   "metadata": {},
   "outputs": [
    {
     "name": "stdout",
     "output_type": "stream",
     "text": [
      "Enter number of seconds: 4560\n",
      "The duration is:  0:01:16:00\n"
     ]
    }
   ],
   "source": [
    "\n",
    "#Python's program to convert number of seconds to days, hours, minutes and seconds.\n",
    " \n",
    "#Define the constants\n",
    "SEC_PER_MIN  = 60\n",
    "SEC_PER_HOUR    = 3600\n",
    "SEC_PER_DAY     = 86400\n",
    " \n",
    "seconds = int(input(\"Enter number of seconds: \"))\n",
    " \n",
    "#Calculate the days, hours, minutes and seconds\n",
    "days = seconds / SEC_PER_DAY\n",
    "seconds = seconds % SEC_PER_DAY\n",
    " \n",
    "hours = seconds / SEC_PER_HOUR\n",
    "seconds = seconds % SEC_PER_HOUR\n",
    " \n",
    "minutes = seconds / SEC_PER_MIN\n",
    "seconds = seconds % SEC_PER_MIN\n",
    " \n",
    "print(\"The duration is: \",\"%d:%02d:%02d:%02d\"%(days, hours, minutes, seconds))"
   ]
  },
  {
   "cell_type": "markdown",
   "metadata": {},
   "source": [
    "#26"
   ]
  },
  {
   "cell_type": "code",
   "execution_count": 7,
   "metadata": {},
   "outputs": [
    {
     "name": "stdout",
     "output_type": "stream",
     "text": [
      "Local time: Wed Sep  9 11:52:05 2020\n"
     ]
    }
   ],
   "source": [
    "import time\n",
    "\n",
    "seconds = time.time()\n",
    "\n",
    "local_time = time.ctime(seconds)\n",
    "print(\"Local time:\", local_time)"
   ]
  },
  {
   "cell_type": "markdown",
   "metadata": {},
   "source": [
    "#27"
   ]
  },
  {
   "cell_type": "code",
   "execution_count": 26,
   "metadata": {},
   "outputs": [
    {
     "name": "stdout",
     "output_type": "stream",
     "text": [
      "Enter the height and weight\n",
      "170\n",
      "60\n",
      "The BMI is:  0.0020761245674740486\n"
     ]
    }
   ],
   "source": [
    "import math\n",
    "\n",
    "print(\"Enter the height and weight\")\n",
    "\n",
    "h = int(input())\n",
    "w = int(input())\n",
    "\n",
    "bmi = w/h**2\n",
    "print(\"The BMI is: \", bmi)"
   ]
  },
  {
   "cell_type": "markdown",
   "metadata": {},
   "source": [
    "#28"
   ]
  },
  {
   "cell_type": "code",
   "execution_count": 33,
   "metadata": {},
   "outputs": [
    {
     "name": "stdout",
     "output_type": "stream",
     "text": [
      "Enter the air temperature 10>=T degrees Celsius  : 9\n",
      "Enter the wind speed 4.8<=V kilometers per hour : 80\n",
      "Wind Chill Index is:  3\n"
     ]
    }
   ],
   "source": [
    "import math\n",
    "\n",
    "T = int(input(\"Enter the air temperature 10>=T degrees Celsius  : \"))\n",
    "V = int(input(\"Enter the wind speed 4.8<=V kilometers per hour : \"))\n",
    "\n",
    "WCI = round(13.12 + (0.6215 * T) - (11.37 * (V**0.16))+ (0.3965 * T * (V**0.16)))\n",
    "print(\"Wind Chill Index is: \", WCI)"
   ]
  },
  {
   "cell_type": "markdown",
   "metadata": {},
   "source": [
    "#29"
   ]
  },
  {
   "cell_type": "code",
   "execution_count": 34,
   "metadata": {},
   "outputs": [
    {
     "name": "stdout",
     "output_type": "stream",
     "text": [
      "Enter the temperature in degrees Celsius100\n",
      "In Fahrenheit  212.0\n",
      "In Kelvin  373\n"
     ]
    }
   ],
   "source": [
    "import math\n",
    "\n",
    "temperature = int(input(\"Enter the temperature in degrees Celsius\"))\n",
    "\n",
    "Fahrenheit = 9/5 * (temperature) +32\n",
    "\n",
    "Kelvin = temperature + 273\n",
    "\n",
    "print(\"In Fahrenheit \", Fahrenheit)\n",
    "print(\"In Kelvin \", Kelvin)"
   ]
  },
  {
   "cell_type": "markdown",
   "metadata": {},
   "source": [
    "#30"
   ]
  },
  {
   "cell_type": "code",
   "execution_count": 2,
   "metadata": {},
   "outputs": [
    {
     "name": "stdout",
     "output_type": "stream",
     "text": [
      "Pressure in kilopascals: 5\n",
      "Pressure in pounds per square inch:  0.6251886851099999\n",
      "Pressure in millimeters of mercury:  37.50308415\n",
      "Pressure in atmospheres:  0.051000000000000004\n"
     ]
    }
   ],
   "source": [
    "p = int(input(\"Pressure in kilopascals: \"))\n",
    "print(\"Pressure in pounds per square inch: \", p * 0.125037737022)\n",
    "print(\"Pressure in millimeters of mercury: \", p * 7.50061683)\n",
    "print(\"Pressure in atmospheres: \", p * 0.0102)"
   ]
  },
  {
   "cell_type": "markdown",
   "metadata": {},
   "source": [
    "#31"
   ]
  },
  {
   "cell_type": "code",
   "execution_count": 1,
   "metadata": {},
   "outputs": [
    {
     "name": "stdout",
     "output_type": "stream",
     "text": [
      "Input four digit numbers: 5245\n",
      "The sum of digits in the number is 16\n"
     ]
    }
   ],
   "source": [
    "num = int(input(\"Input four digit numbers: \"))\n",
    "n  = num //1000\n",
    "n1 = (num - n*1000)//100\n",
    "n2 = (num - n*1000 - n1*100)//10\n",
    "n3 = num - n*1000 - n1*100 - n2*10\n",
    "print(\"The sum of digits in the number is: \", n+n1+n2+n3)"
   ]
  },
  {
   "cell_type": "code",
   "execution_count": 2,
   "metadata": {},
   "outputs": [
    {
     "name": "stdout",
     "output_type": "stream",
     "text": [
      "2\n"
     ]
    }
   ],
   "source": [
    "print(5//2)"
   ]
  },
  {
   "cell_type": "code",
   "execution_count": 3,
   "metadata": {},
   "outputs": [
    {
     "name": "stdout",
     "output_type": "stream",
     "text": [
      "2.5\n"
     ]
    }
   ],
   "source": [
    "print(5/2)"
   ]
  },
  {
   "cell_type": "markdown",
   "metadata": {},
   "source": [
    "#32"
   ]
  },
  {
   "cell_type": "code",
   "execution_count": 4,
   "metadata": {},
   "outputs": [
    {
     "name": "stdout",
     "output_type": "stream",
     "text": [
      "Input first number: -23\n",
      "Input second number: 23\n",
      "Input third number: 0\n",
      "Numbers in sorted order:  -23 0 23\n"
     ]
    }
   ],
   "source": [
    "x = int(input(\"Input first number: \"))\n",
    "y = int(input(\"Input second number: \"))\n",
    "z = int(input(\"Input third number: \"))\n",
    "\n",
    "a1 = min(x, y, z)\n",
    "a3 = max(x, y, z)\n",
    "a2 = (x + y + z) - a1 - a3\n",
    "\n",
    "print(\"Numbers in sorted order: \", a1, a2, a3)"
   ]
  },
  {
   "cell_type": "markdown",
   "metadata": {},
   "source": [
    "#33"
   ]
  },
  {
   "cell_type": "code",
   "execution_count": 5,
   "metadata": {},
   "outputs": [
    {
     "name": "stdout",
     "output_type": "stream",
     "text": [
      "25\n",
      "Loaves Discount\n",
      "Regular Price 4625\n",
      "Total Discount 2775.0\n",
      "Total Amount to be paid 1850.0\n"
     ]
    }
   ],
   "source": [
    "a = int(input())\n",
    "b = a * 185\n",
    "print(\"Loaves Discount\")\n",
    "print(\"Regular Price\", b)\n",
    "print(\"Total Discount\", b * 0.6)\n",
    "print(\"Total Amount to be paid\", b- (b * 0.6))"
   ]
  },
  {
   "cell_type": "code",
   "execution_count": null,
   "metadata": {},
   "outputs": [],
   "source": []
  }
 ],
 "metadata": {
  "kernelspec": {
   "display_name": "Python 3",
   "language": "python",
   "name": "python3"
  },
  "language_info": {
   "codemirror_mode": {
    "name": "ipython",
    "version": 3
   },
   "file_extension": ".py",
   "mimetype": "text/x-python",
   "name": "python",
   "nbconvert_exporter": "python",
   "pygments_lexer": "ipython3",
   "version": "3.7.6"
  }
 },
 "nbformat": 4,
 "nbformat_minor": 4
}
